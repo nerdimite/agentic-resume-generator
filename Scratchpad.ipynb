{
 "cells": [
  {
   "cell_type": "code",
   "execution_count": 2,
   "metadata": {},
   "outputs": [
    {
     "data": {
      "text/plain": [
       "True"
      ]
     },
     "execution_count": 2,
     "metadata": {},
     "output_type": "execute_result"
    }
   ],
   "source": [
    "from dotenv import load_dotenv\n",
    "load_dotenv()"
   ]
  },
  {
   "cell_type": "code",
   "execution_count": 3,
   "metadata": {},
   "outputs": [
    {
     "name": "stdout",
     "output_type": "stream",
     "text": [
      "resume_input/Resume_of_Bhavesh_Laddagiri.pdf\n"
     ]
    }
   ],
   "source": [
    "import glob\n",
    "import os\n",
    "import json\n",
    "\n",
    "RESUME_INPUT_DIR = \"resume_input\"\n",
    "RESUME_OUTPUT_DIR = \"resume_output\"\n",
    "\n",
    "for file in glob.glob(f\"{RESUME_INPUT_DIR}/*.pdf\"):\n",
    "    print(file)\n",
    "\n",
    "os.makedirs(RESUME_OUTPUT_DIR, exist_ok=True)"
   ]
  },
  {
   "cell_type": "markdown",
   "metadata": {},
   "source": [
    "## Resume Parser"
   ]
  },
  {
   "cell_type": "code",
   "execution_count": 2,
   "metadata": {},
   "outputs": [],
   "source": [
    "from resume_generator.parser import ResumeParser\n",
    "\n",
    "resume_parser = ResumeParser()"
   ]
  },
  {
   "cell_type": "code",
   "execution_count": null,
   "metadata": {},
   "outputs": [],
   "source": [
    "resume = resume_parser.parse_resume(file)\n",
    "resume_json = resume_parser._resume_to_json(resume, os.path.join(RESUME_INPUT_DIR, os.path.basename(file).replace(\".pdf\", \".json\")))"
   ]
  },
  {
   "cell_type": "markdown",
   "metadata": {},
   "source": [
    "## Resume Optimizer"
   ]
  },
  {
   "cell_type": "code",
   "execution_count": 4,
   "metadata": {},
   "outputs": [],
   "source": [
    "from resume_generator.optimizer import ResumeOptimizer\n",
    "from resume_generator.models import Resume"
   ]
  },
  {
   "cell_type": "code",
   "execution_count": 5,
   "metadata": {},
   "outputs": [],
   "source": [
    "with open(f\"{RESUME_INPUT_DIR}/job_description.txt\", \"r\") as f:\n",
    "    job_description = f.read()\n",
    "\n",
    "with open(f\"{RESUME_INPUT_DIR}/Resume_of_Bhavesh_Laddagiri.json\", \"r\") as f:\n",
    "    resume_json = json.load(f)\n",
    "    resume = Resume.model_validate(resume_json)"
   ]
  },
  {
   "cell_type": "code",
   "execution_count": 6,
   "metadata": {},
   "outputs": [],
   "source": [
    "optimizer = ResumeOptimizer()\n",
    "\n",
    "# optimized_resume = optimizer.optimize_resume(job_description, resume)"
   ]
  },
  {
   "cell_type": "code",
   "execution_count": null,
   "metadata": {},
   "outputs": [],
   "source": [
    "job_analysis = optimizer.stage_1(job_description)"
   ]
  },
  {
   "cell_type": "code",
   "execution_count": 8,
   "metadata": {},
   "outputs": [],
   "source": [
    "def structured_json_print(json_data: str):\n",
    "    \"\"\"Print structured data with proper indentation for nested elements.\"\"\"\n",
    "    def _print_nested(data, indent=0):\n",
    "        if isinstance(data, dict):\n",
    "            for key, value in data.items():\n",
    "                print(\" \" * indent + f\"{key}:\")\n",
    "                _print_nested(value, indent + 2)\n",
    "        elif isinstance(data, list):\n",
    "            for item in data:\n",
    "                if isinstance(item, (dict, list)):\n",
    "                    _print_nested(item, indent + 2)\n",
    "                else:\n",
    "                    print(\" \" * indent + f\"- {item}\")\n",
    "        else:\n",
    "            print(\" \" * indent + str(data))\n",
    "    \n",
    "    import json\n",
    "    parsed_data = json.loads(json_data)\n",
    "    _print_nested(parsed_data)\n",
    "    print(\"-\" * 100)"
   ]
  },
  {
   "cell_type": "code",
   "execution_count": null,
   "metadata": {},
   "outputs": [],
   "source": [
    "optimizer.messages"
   ]
  },
  {
   "cell_type": "code",
   "execution_count": null,
   "metadata": {},
   "outputs": [],
   "source": [
    "gap_analysis = optimizer.stage_2(resume)"
   ]
  },
  {
   "cell_type": "code",
   "execution_count": null,
   "metadata": {},
   "outputs": [],
   "source": []
  },
  {
   "cell_type": "code",
   "execution_count": null,
   "metadata": {},
   "outputs": [],
   "source": [
    "with open(f\"{RESUME_OUTPUT_DIR}/Resume_of_Bhavesh_Laddagiri_Optimized.json\", \"w\") as f:\n",
    "    json.dump(optimized_resume, f, indent=4)"
   ]
  }
 ],
 "metadata": {
  "kernelspec": {
   "display_name": "base",
   "language": "python",
   "name": "python3"
  },
  "language_info": {
   "codemirror_mode": {
    "name": "ipython",
    "version": 3
   },
   "file_extension": ".py",
   "mimetype": "text/x-python",
   "name": "python",
   "nbconvert_exporter": "python",
   "pygments_lexer": "ipython3",
   "version": "3.12.2"
  }
 },
 "nbformat": 4,
 "nbformat_minor": 2
}
